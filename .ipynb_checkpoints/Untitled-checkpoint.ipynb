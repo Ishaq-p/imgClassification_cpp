{
 "cells": [
  {
   "cell_type": "code",
   "execution_count": 1,
   "id": "39140fa3",
   "metadata": {},
   "outputs": [],
   "source": [
    "import torch \n",
    "import torchvision.datasets as dsets\n",
    "import torchvision.transforms as transforms\n",
    "from PIL import Image\n",
    "\n",
    "import numpy as np\n",
    "import matplotlib.pyplot as plt"
   ]
  },
  {
   "cell_type": "code",
   "execution_count": null,
   "id": "473c59f6",
   "metadata": {},
   "outputs": [],
   "source": []
  },
  {
   "cell_type": "code",
   "execution_count": 5,
   "id": "c178a6e7",
   "metadata": {},
   "outputs": [],
   "source": [
    "def showData(dataSample):\n",
    "    plt.imshow(dataSample[0].numpy().reshape(IMAGE_SIZE, IMAGE_SIZE), cmap='gray')\n",
    "    plt.title('y = '+ str(dataSample[1]))"
   ]
  },
  {
   "cell_type": "code",
   "execution_count": 21,
   "id": "befe7e20",
   "metadata": {},
   "outputs": [],
   "source": [
    "def saveImgToPMG(imgArray, index):\n",
    "    width, height = 16, 16\n",
    "    p_num = width * height\n",
    "    arr = np.random.randint(0,255, p_num)\n",
    "    \n",
    "    fout = open(f\"Data/finalData/trainData/{index}.pmg\", 'wb')\n",
    "#     fout = open(f\"{index}.pmg\", 'wb')\n",
    "    pgmHeader = 'P2' + '\\n' + str(width) + ' ' + str(height) + '\\n' + str(255) +  '\\n'\n",
    "    pgmHeader_byte = bytearray(pgmHeader,'utf-8')\n",
    "    fout.write(pgmHeader_byte)\n",
    "    \n",
    "    img = np.reshape(arr, (height, width))\n",
    "    \n",
    "    wholeImg = \"\"\n",
    "    for i in imgArray:\n",
    "        eachRow =\"\"\n",
    "        for j in i:\n",
    "            eachRow+=str(int(j*255))+\" \"\n",
    "        wholeImg+=eachRow+\"\\n\"\n",
    "    wholeImg_byte = bytearray(wholeImg, 'utf-8')\n",
    "    fout.write(wholeImg_byte)\n",
    "    \n",
    "    fout.close()\n"
   ]
  },
  {
   "cell_type": "code",
   "execution_count": 42,
   "id": "bb61ba5d",
   "metadata": {},
   "outputs": [],
   "source": [
    "def saveWeightsToPMG(imgArray, index):\n",
    "    width, height = 5, 5\n",
    "    p_num = width * height\n",
    "    arr = np.random.randint(0,255, p_num)\n",
    "    \n",
    "    fout = open(f\"{index}.pmg\", 'wb')\n",
    "    pgmHeader = 'P2' + '\\n' + str(width) + ' ' + str(height) + '\\n' + str(1e6) +  '\\n'\n",
    "    pgmHeader_byte = bytearray(pgmHeader,'utf-8')\n",
    "    fout.write(pgmHeader_byte)\n",
    "    \n",
    "    img = np.reshape(arr, (height, width))\n",
    "    \n",
    "    wholeImg = \"\"\n",
    "    for i in imgArray:\n",
    "        eachRow =\"\"\n",
    "        for j in i:\n",
    "            eachRow+=str(int(j*1e6))+\" \"\n",
    "        wholeImg+=eachRow+\"\\n\"\n",
    "    wholeImg_byte = bytearray(wholeImg, 'utf-8')\n",
    "    fout.write(wholeImg_byte)\n",
    "    \n",
    "    fout.close()\n"
   ]
  },
  {
   "cell_type": "code",
   "execution_count": 2,
   "id": "86af7079",
   "metadata": {},
   "outputs": [],
   "source": [
    "IMAGE_SIZE = 16\n",
    "\n",
    "composed = transforms.Compose([transforms.Resize((IMAGE_SIZE, IMAGE_SIZE)), transforms.ToTensor()])\n",
    "\n",
    "dataset_train = dsets.MNIST(root=\"./Data/rawData\", train=True, download=True, transform=composed)\n",
    "\n",
    "showData(dataset_train[2])"
   ]
  },
  {
   "cell_type": "code",
   "execution_count": null,
   "id": "2905ad2c",
   "metadata": {},
   "outputs": [],
   "source": []
  },
  {
   "cell_type": "markdown",
   "id": "564c5d49",
   "metadata": {},
   "source": [
    "### saving all the MNIST imgs in PMG format"
   ]
  },
  {
   "cell_type": "code",
   "execution_count": 55,
   "id": "05d67c12",
   "metadata": {
    "scrolled": true
   },
   "outputs": [],
   "source": [
    "# for k in range(60000):\n",
    "#     saveImgToPMG(dataset_train[k][0].numpy()[0], k)"
   ]
  },
  {
   "cell_type": "code",
   "execution_count": 40,
   "id": "69075b03",
   "metadata": {},
   "outputs": [
    {
     "data": {
      "text/plain": [
       "[[1.2626591, 1.4009631, 1.191172, 1.1925143, 1.1396304],\n",
       " [1.3664095, 1.6600176, 0.9777731, 0.5877646, 0.9835263],\n",
       " [0.9386517, 1.4804713, 1.4588951, 0.8885329, 0.8280667],\n",
       " [0.7268343, 1.0187737, 1.129155, 1.2331724, 1.0309485],\n",
       " [0.7884503, 1.0345874, 0.9197954, 0.9701265, 0.99706906]]"
      ]
     },
     "execution_count": 40,
     "metadata": {},
     "output_type": "execute_result"
    }
   ],
   "source": [
    "[list(i) for i in (model['cnn1.weight'].numpy()[0][0]+1)]"
   ]
  },
  {
   "cell_type": "code",
   "execution_count": 43,
   "id": "f69532aa",
   "metadata": {},
   "outputs": [],
   "source": [
    "saveToPMG([list(i) for i in (model['cnn1.weight'].numpy()[0][0]+1)], 'testBias')"
   ]
  },
  {
   "cell_type": "code",
   "execution_count": 5,
   "id": "a06855d7",
   "metadata": {},
   "outputs": [],
   "source": [
    "model = torch.load(\"model.pt\")"
   ]
  },
  {
   "cell_type": "code",
   "execution_count": 16,
   "id": "19f632b8",
   "metadata": {},
   "outputs": [
    {
     "data": {
      "text/plain": [
       "odict_keys(['cnn1.weight', 'cnn1.bias', 'cnn2.weight', 'cnn2.bias', 'fc1.weight', 'fc1.bias'])"
      ]
     },
     "execution_count": 16,
     "metadata": {},
     "output_type": "execute_result"
    }
   ],
   "source": [
    "model.keys()"
   ]
  },
  {
   "cell_type": "code",
   "execution_count": 14,
   "id": "84e2940c",
   "metadata": {},
   "outputs": [
    {
     "data": {
      "text/plain": [
       "torch.Size([32, 16, 5, 5])"
      ]
     },
     "execution_count": 14,
     "metadata": {},
     "output_type": "execute_result"
    }
   ],
   "source": [
    "model[\"cnn2.weight\"].shape"
   ]
  },
  {
   "cell_type": "code",
   "execution_count": 17,
   "id": "7bafbd2b",
   "metadata": {},
   "outputs": [
    {
     "data": {
      "text/plain": [
       "tensor([ 0.0646, -0.0561, -0.0537,  0.0388, -0.0519,  0.0219,  0.0095, -0.1064,\n",
       "         0.0066,  0.0577,  0.0706, -0.0401, -0.0392, -0.0384,  0.1298,  0.0473,\n",
       "         0.0180, -0.0689, -0.0723,  0.1101, -0.0240, -0.0316, -0.0650, -0.0344,\n",
       "         0.0387, -0.0791, -0.0619,  0.0092, -0.0395, -0.0781, -0.0621, -0.0025])"
      ]
     },
     "execution_count": 17,
     "metadata": {},
     "output_type": "execute_result"
    }
   ],
   "source": [
    "model['cnn2.bias']"
   ]
  },
  {
   "cell_type": "code",
   "execution_count": 15,
   "id": "e528c3b9",
   "metadata": {},
   "outputs": [
    {
     "data": {
      "text/plain": [
       "tensor([[[-2.6156e-02, -4.4861e-02, -2.4592e-02, -1.1694e-01, -2.9662e-02],\n",
       "         [-5.0115e-02, -1.0852e-01,  2.8094e-02, -8.1047e-02, -4.8698e-03],\n",
       "         [-4.6561e-02,  2.1598e-02,  2.5778e-01, -9.3697e-02, -2.4711e-03],\n",
       "         [-7.9680e-02, -1.1075e-02,  2.0796e-01,  6.5048e-02,  7.1334e-02],\n",
       "         [-9.1367e-02,  5.8559e-02, -1.2068e-01, -5.0451e-02, -1.0504e-01]],\n",
       "\n",
       "        [[-5.4477e-04,  1.0246e-01, -1.2966e-02, -5.1454e-02, -2.8718e-02],\n",
       "         [ 4.2248e-02,  5.3349e-03, -1.2384e-01, -5.8620e-02,  6.1697e-02],\n",
       "         [ 1.0874e-01,  9.4623e-02, -1.2318e-01, -3.7461e-02,  4.8932e-02],\n",
       "         [ 8.1192e-02,  9.2467e-02, -4.1449e-03,  2.6373e-02,  6.5004e-02],\n",
       "         [ 6.4451e-02,  3.9891e-02,  3.6119e-03,  3.8976e-02, -6.5413e-02]],\n",
       "\n",
       "        [[ 5.8568e-03, -2.1605e-01, -6.1368e-02, -3.3251e-02,  3.0255e-02],\n",
       "         [-7.2973e-02, -2.5463e-01,  5.7674e-02, -1.4905e-02,  8.1979e-02],\n",
       "         [-5.5969e-02, -6.1827e-03,  3.2030e-02, -6.1935e-02,  1.3004e-01],\n",
       "         [-3.3420e-02,  2.7943e-02,  1.1747e-01,  1.3436e-01,  7.7259e-02],\n",
       "         [-8.6423e-02, -6.0415e-02, -4.9591e-02, -1.6790e-01, -2.2207e-02]],\n",
       "\n",
       "        [[-8.7273e-02,  1.7260e-01, -7.9283e-02, -1.5894e-01,  4.7624e-02],\n",
       "         [-3.3162e-02,  1.7474e-01, -1.4410e-01, -9.6003e-02,  4.2673e-02],\n",
       "         [ 8.3885e-03,  2.3385e-01, -8.2208e-02, -8.9148e-02, -1.2638e-01],\n",
       "         [ 3.1959e-03,  1.4957e-01,  1.7819e-01,  3.9516e-02, -6.9887e-02],\n",
       "         [ 1.8537e-02, -9.2337e-03, -4.5769e-02,  3.1436e-02, -8.7414e-02]],\n",
       "\n",
       "        [[-3.9857e-02, -1.4596e-01,  6.3563e-02, -1.4245e-01,  5.9948e-03],\n",
       "         [ 9.4698e-02, -1.1779e-01,  3.2003e-01, -1.6403e-02,  6.4711e-02],\n",
       "         [ 1.4966e-02,  8.2792e-02,  2.0372e-01, -2.6381e-02,  3.4494e-02],\n",
       "         [-6.7965e-02,  1.3188e-01,  9.3334e-02,  3.4159e-02,  3.3840e-02],\n",
       "         [ 7.7714e-02,  7.9541e-02, -7.4975e-02, -1.6273e-01, -1.0924e-01]],\n",
       "\n",
       "        [[-2.0849e-02, -1.2871e-01, -1.1919e-01, -1.0618e-01, -2.7030e-02],\n",
       "         [ 3.9996e-02, -2.2926e-01,  1.8531e-03, -1.1279e-01,  5.5935e-02],\n",
       "         [-1.4497e-01, -1.1749e-01,  2.1708e-01,  1.1466e-01,  6.5309e-02],\n",
       "         [-2.4814e-01, -2.4743e-01, -1.1257e-01, -6.6611e-02, -2.0412e-01],\n",
       "         [-7.9987e-02, -1.0676e-01, -4.8572e-03,  1.3465e-01,  5.9285e-02]],\n",
       "\n",
       "        [[-1.4673e-02,  8.0095e-02, -1.6387e-02,  2.9239e-02,  2.5695e-02],\n",
       "         [-1.5371e-01,  1.7011e-01,  1.1209e-01, -1.7858e-02, -3.1732e-02],\n",
       "         [-9.9793e-02,  3.2516e-02, -1.3733e-01, -9.0874e-02, -5.1875e-02],\n",
       "         [ 5.9772e-02,  3.5277e-02, -6.6107e-02, -9.1296e-03,  9.5039e-02],\n",
       "         [ 1.1308e-02, -5.6052e-02, -5.6074e-02, -4.2361e-02, -7.4805e-02]],\n",
       "\n",
       "        [[-3.5020e-02, -1.5597e-01, -7.9057e-02, -1.6389e-02,  7.1422e-02],\n",
       "         [-7.2856e-02, -1.9195e-01,  2.0119e-01,  3.7709e-02,  5.6494e-02],\n",
       "         [-1.7256e-01, -1.1824e-02, -5.4508e-02, -6.6232e-02,  6.9058e-02],\n",
       "         [ 2.1726e-02,  1.6747e-01,  6.4901e-03, -2.6927e-02,  3.2151e-02],\n",
       "         [ 1.6078e-02, -2.0938e-02, -1.4170e-01, -1.1301e-01, -7.9256e-02]],\n",
       "\n",
       "        [[ 3.7924e-02,  1.2086e-02, -4.3169e-02, -4.9334e-02,  9.2426e-02],\n",
       "         [-5.5281e-02, -1.0816e-01, -1.1912e-01, -4.4959e-02,  1.1509e-01],\n",
       "         [ 4.6516e-02, -5.4911e-03, -2.4745e-02,  8.0466e-03,  3.1033e-02],\n",
       "         [ 7.1652e-02,  1.0303e-01,  1.0135e-01,  8.0773e-02, -3.6741e-03],\n",
       "         [-6.0418e-02, -4.0227e-02,  5.6541e-02,  1.9119e-02,  2.3427e-02]],\n",
       "\n",
       "        [[-6.4723e-02, -8.2768e-02, -1.6014e-01, -7.5190e-02, -1.6930e-03],\n",
       "         [-2.1967e-02, -9.2701e-02, -9.8827e-02, -2.2220e-02, -7.8896e-03],\n",
       "         [ 7.8587e-03,  5.7377e-03,  8.9936e-02,  7.3055e-03,  2.5600e-02],\n",
       "         [ 1.4385e-03,  8.0377e-02,  1.6494e-01,  1.2894e-01,  3.7457e-02],\n",
       "         [-1.8608e-02, -2.5756e-02, -5.2127e-02,  1.0872e-02, -9.4948e-02]],\n",
       "\n",
       "        [[-4.7652e-02, -1.0624e-02,  8.5892e-02,  5.3452e-02, -2.9869e-02],\n",
       "         [-3.1194e-02,  5.2333e-02, -6.2328e-02, -1.8356e-02,  7.2550e-03],\n",
       "         [-3.0422e-02, -1.7355e-01, -9.5621e-02,  9.2722e-02,  5.2053e-02],\n",
       "         [-1.3897e-02, -1.7012e-01, -1.7836e-01, -2.8836e-02, -5.9646e-02],\n",
       "         [ 2.7652e-03, -6.3722e-02, -3.8401e-02,  5.2223e-02,  9.5757e-02]],\n",
       "\n",
       "        [[-2.8264e-02,  1.6540e-01, -1.0127e-02,  3.3127e-02,  1.1624e-02],\n",
       "         [-2.9788e-02,  2.0184e-01, -2.7321e-02,  4.5217e-02, -4.3702e-02],\n",
       "         [ 5.2330e-02,  8.8495e-02, -4.9180e-02, -2.9575e-02, -4.5408e-02],\n",
       "         [ 1.5959e-02,  3.3737e-02, -6.5586e-02, -7.2598e-02,  3.6358e-02],\n",
       "         [ 3.9801e-02,  2.4030e-02, -7.2552e-02,  4.2416e-02, -8.3299e-02]],\n",
       "\n",
       "        [[-2.6317e-02, -7.4054e-02,  4.8858e-02, -7.1432e-02, -3.9643e-02],\n",
       "         [-4.7463e-02,  5.7562e-02,  1.2313e-01,  1.1229e-02,  6.3564e-03],\n",
       "         [ 2.1017e-02,  2.9694e-02,  9.6116e-02,  1.0291e-03, -2.0592e-02],\n",
       "         [ 4.8323e-02,  3.2485e-02,  1.8935e-03, -7.7790e-02, -2.4945e-02],\n",
       "         [ 1.8464e-02,  7.1732e-02, -2.7348e-02, -3.3890e-02, -4.7713e-02]],\n",
       "\n",
       "        [[ 6.3557e-02, -9.7461e-03, -5.7792e-02, -4.2899e-02,  3.1215e-02],\n",
       "         [ 3.3151e-02,  5.4298e-03, -7.6790e-02, -3.1155e-04,  3.2191e-03],\n",
       "         [ 6.0210e-02, -2.2845e-02, -1.4660e-02,  9.5932e-03, -1.3409e-02],\n",
       "         [ 3.5027e-02, -8.1954e-02, -1.1751e-02,  3.3575e-02, -3.3415e-02],\n",
       "         [ 1.2187e-02, -1.4103e-02,  1.7673e-02,  4.2924e-02, -2.8729e-02]],\n",
       "\n",
       "        [[-5.4889e-03, -2.1426e-02,  3.7519e-02,  6.4977e-02,  1.4350e-02],\n",
       "         [ 2.2467e-03,  3.1735e-02,  2.7182e-02, -1.9503e-02,  7.3006e-02],\n",
       "         [-6.6022e-03,  9.7702e-03, -1.1609e-02,  8.7044e-02,  7.8399e-03],\n",
       "         [ 4.3779e-02,  2.6040e-02, -4.0949e-03, -1.1613e-02,  4.9892e-02],\n",
       "         [ 4.4454e-02, -6.1690e-02,  2.2568e-02, -4.2436e-02, -9.4132e-02]],\n",
       "\n",
       "        [[ 1.2499e-02,  1.1126e-02,  1.8293e-02,  1.7296e-02, -1.7658e-02],\n",
       "         [-4.5481e-02, -4.4098e-02,  2.4489e-02,  3.3929e-02,  8.3160e-03],\n",
       "         [ 2.0319e-02, -4.2645e-02,  2.7525e-02,  4.8253e-02, -1.0755e-02],\n",
       "         [-4.6105e-02,  4.5063e-02, -3.0474e-02,  7.0331e-02,  1.4766e-02],\n",
       "         [-2.6474e-02, -2.1097e-02,  1.9296e-02,  1.5326e-02,  4.2514e-02]]])"
      ]
     },
     "execution_count": 15,
     "metadata": {},
     "output_type": "execute_result"
    }
   ],
   "source": [
    "model[\"cnn2.weight\"][0]"
   ]
  },
  {
   "cell_type": "code",
   "execution_count": null,
   "id": "8d1c4e18",
   "metadata": {},
   "outputs": [],
   "source": []
  }
 ],
 "metadata": {
  "kernelspec": {
   "display_name": "Python 3 (ipykernel)",
   "language": "python",
   "name": "python3"
  },
  "language_info": {
   "codemirror_mode": {
    "name": "ipython",
    "version": 3
   },
   "file_extension": ".py",
   "mimetype": "text/x-python",
   "name": "python",
   "nbconvert_exporter": "python",
   "pygments_lexer": "ipython3",
   "version": "3.10.12"
  }
 },
 "nbformat": 4,
 "nbformat_minor": 5
}
