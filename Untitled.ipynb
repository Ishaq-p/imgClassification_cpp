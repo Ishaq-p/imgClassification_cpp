{
 "cells": [
  {
   "cell_type": "code",
   "execution_count": 18,
   "id": "39140fa3",
   "metadata": {},
   "outputs": [],
   "source": [
    "import torch \n",
    "import torchvision.datasets as dsets\n",
    "import torchvision.transforms as transforms\n",
    "from PIL import Image\n",
    "\n",
    "import numpy as np\n",
    "import matplotlib.pyplot as plt"
   ]
  },
  {
   "cell_type": "code",
   "execution_count": null,
   "id": "473c59f6",
   "metadata": {},
   "outputs": [],
   "source": []
  },
  {
   "cell_type": "code",
   "execution_count": 5,
   "id": "c178a6e7",
   "metadata": {},
   "outputs": [],
   "source": [
    "def showData(dataSample):\n",
    "    plt.imshow(dataSample[0].numpy().reshape(IMAGE_SIZE, IMAGE_SIZE), cmap='gray')\n",
    "    plt.title('y = '+ str(dataSample[1]))"
   ]
  },
  {
   "cell_type": "code",
   "execution_count": 54,
   "id": "befe7e20",
   "metadata": {},
   "outputs": [],
   "source": [
    "def saveToPMG(imgArray, index):\n",
    "    width, height = 16, 16\n",
    "    p_num = width * height\n",
    "    arr = np.random.randint(0,255, p_num)\n",
    "    \n",
    "    fout = open(f\"Data/finalData/trainData/{index}.pmg\", 'wb')\n",
    "    pgmHeader = 'P2' + '\\n' + str(width) + ' ' + str(height) + '\\n' + str(255) +  '\\n'\n",
    "    pgmHeader_byte = bytearray(pgmHeader,'utf-8')\n",
    "    fout.write(pgmHeader_byte)\n",
    "    \n",
    "    img = np.reshape(arr, (height, width))\n",
    "    \n",
    "    wholeImg = \"\"\n",
    "    for i in imgArray:\n",
    "        eachRow =\"\"\n",
    "        for j in i:\n",
    "            eachRow+=str(int(j*255))+\" \"\n",
    "        wholeImg+=eachRow+\"\\n\"\n",
    "    wholeImg_byte = bytearray(wholeImg, 'utf-8')\n",
    "    fout.write(wholeImg_byte)\n",
    "    \n",
    "    fout.close()\n"
   ]
  },
  {
   "cell_type": "code",
   "execution_count": 2,
   "id": "86af7079",
   "metadata": {},
   "outputs": [],
   "source": [
    "IMAGE_SIZE = 16\n",
    "\n",
    "composed = transforms.Compose([transforms.Resize((IMAGE_SIZE, IMAGE_SIZE)), transforms.ToTensor()])\n",
    "\n",
    "dataset_train = dsets.MNIST(root=\"./Data/rawData\", train=True, download=True, transform=composed)\n",
    "\n",
    "showData(dataset_train[2])"
   ]
  },
  {
   "cell_type": "code",
   "execution_count": null,
   "id": "2905ad2c",
   "metadata": {},
   "outputs": [],
   "source": []
  },
  {
   "cell_type": "markdown",
   "id": "564c5d49",
   "metadata": {},
   "source": [
    "### saving all the MNIST imgs in PMG format"
   ]
  },
  {
   "cell_type": "code",
   "execution_count": 55,
   "id": "05d67c12",
   "metadata": {
    "scrolled": true
   },
   "outputs": [],
   "source": [
    "for k in range(60000):\n",
    "    saveToPMG(dataset_train[k][0].numpy()[0], k)"
   ]
  },
  {
   "cell_type": "code",
   "execution_count": null,
   "id": "f69532aa",
   "metadata": {},
   "outputs": [],
   "source": []
  },
  {
   "cell_type": "code",
   "execution_count": 46,
   "id": "a06855d7",
   "metadata": {},
   "outputs": [],
   "source": []
  },
  {
   "cell_type": "code",
   "execution_count": null,
   "id": "84e2940c",
   "metadata": {},
   "outputs": [],
   "source": []
  }
 ],
 "metadata": {
  "kernelspec": {
   "display_name": "Python 3 (ipykernel)",
   "language": "python",
   "name": "python3"
  },
  "language_info": {
   "codemirror_mode": {
    "name": "ipython",
    "version": 3
   },
   "file_extension": ".py",
   "mimetype": "text/x-python",
   "name": "python",
   "nbconvert_exporter": "python",
   "pygments_lexer": "ipython3",
   "version": "3.10.12"
  }
 },
 "nbformat": 4,
 "nbformat_minor": 5
}
