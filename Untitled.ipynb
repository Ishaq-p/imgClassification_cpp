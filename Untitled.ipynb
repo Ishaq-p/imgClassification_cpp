{
 "cells": [
  {
   "cell_type": "code",
   "execution_count": 1,
   "id": "39140fa3",
   "metadata": {},
   "outputs": [],
   "source": [
    "import torch \n",
    "import torchvision.datasets as dsets\n",
    "import torchvision.transforms as transforms\n",
    "from PIL import Image\n",
    "\n",
    "import numpy as np\n",
    "import matplotlib.pyplot as plt\n",
    "\n",
    "IMAGE_SIZE = 16\n",
    "composed = transforms.Compose([transforms.Resize((IMAGE_SIZE, IMAGE_SIZE)), transforms.ToTensor()])\n",
    "dataset_train = dsets.MNIST(root=\"./Data/rawData\", train=True, download=True, transform=composed)\n",
    "showData(dataset_train[2])"
   ]
  },
  {
   "cell_type": "code",
   "execution_count": 21,
   "id": "befe7e20",
   "metadata": {},
   "outputs": [],
   "source": [
    "def showData(dataSample):\n",
    "    plt.imshow(dataSample[0].numpy().reshape(IMAGE_SIZE, IMAGE_SIZE), cmap='gray')\n",
    "    plt.title('y = '+ str(dataSample[1]))\n",
    "\n",
    "def saveImgToPMG(imgArray, index):\n",
    "    width, height = 16, 16\n",
    "    p_num = width * height\n",
    "    arr = np.random.randint(0,255, p_num)\n",
    "    \n",
    "    fout = open(f\"Data/finalData/trainData/{index}.pmg\", 'wb')\n",
    "#     fout = open(f\"{index}.pmg\", 'wb')\n",
    "    pgmHeader = 'P2' + '\\n' + str(width) + ' ' + str(height) + '\\n' + str(255) +  '\\n'\n",
    "    pgmHeader_byte = bytearray(pgmHeader,'utf-8')\n",
    "    fout.write(pgmHeader_byte)\n",
    "    \n",
    "    img = np.reshape(arr, (height, width))\n",
    "    \n",
    "    wholeImg = \"\"\n",
    "    for i in imgArray:\n",
    "        eachRow =\"\"\n",
    "        for j in i:\n",
    "            eachRow+=str(int(j*255))+\" \"\n",
    "        wholeImg+=eachRow+\"\\n\"\n",
    "    wholeImg_byte = bytearray(wholeImg, 'utf-8')\n",
    "    fout.write(wholeImg_byte)\n",
    "    \n",
    "    fout.close()\n",
    "\n",
    "def saveWeightsToPMG(imgArray, index):\n",
    "    width, height = 16, 25\n",
    "    p_num = width * height\n",
    "    arr = np.random.randint(0,255, p_num)\n",
    "    \n",
    "    fout = open(f\"{index}.pmg\", 'wb')\n",
    "    pgmHeader = 'P2' + '\\n' + str(width) + ' ' + str(height) + '\\n' + str(1000000) +  '\\n'\n",
    "    pgmHeader_byte = bytearray(pgmHeader,'utf-8')\n",
    "    fout.write(pgmHeader_byte)\n",
    "    \n",
    "    img = np.reshape(arr, (height, width))\n",
    "    \n",
    "    wholeImg = \"\"\n",
    "    try:\n",
    "        for i in imgArray:\n",
    "            eachRow =\"\"\n",
    "            for j in i:\n",
    "                eachRow+=str(int(j*1e6))+\" \"\n",
    "            wholeImg+=eachRow+\"\\n\"\n",
    "    except Exception as e:\n",
    "        print(i)\n",
    "    wholeImg_byte = bytearray(wholeImg, 'utf-8')\n",
    "    fout.write(wholeImg_byte)\n",
    "    \n",
    "    fout.close()"
   ]
  },
  {
   "cell_type": "markdown",
   "id": "564c5d49",
   "metadata": {},
   "source": [
    "### saving all the MNIST imgs in PMG format"
   ]
  },
  {
   "cell_type": "code",
   "execution_count": 55,
   "id": "05d67c12",
   "metadata": {
    "scrolled": true
   },
   "outputs": [],
   "source": [
    "# for k in range(60000):\n",
    "#     saveImgToPMG(dataset_train[k][0].numpy()[0], k)"
   ]
  },
  {
   "cell_type": "code",
   "execution_count": 68,
   "id": "3aa4eb67",
   "metadata": {},
   "outputs": [],
   "source": [
    "def array_2dTo1d(lis_2d):\n",
    "    weights_string=[]\n",
    "    for i in lis_2d:\n",
    "        for ii in i:\n",
    "            weights_string.append(ii.item())\n",
    "    return weights_string\n",
    "#     print(weights_string)"
   ]
  },
  {
   "cell_type": "code",
   "execution_count": 73,
   "id": "f69532aa",
   "metadata": {},
   "outputs": [],
   "source": [
    "model = torch.load(\"model.pt\")\n",
    "model.keys()\n",
    "\n",
    "saveWeightsToPMG([array_2dTo1d(i[0]) for i in model['cnn1.weight'].numpy()], 'modelWeights/cnn1/cnn1_weights')\n",
    "\n",
    "for flterNum in range(32):\n",
    "    saveWeightsToPMG([array_2dTo1d(i) for i in model['cnn2.weight'][flterNum].numpy()], f'modelWeights/cnn2/cnn2_weights{flterNum}')\n",
    "\n",
    "saveWeightsToPMG(model['fc1.weight'].numpy(), f'modelWeights/fc1/fc1_weights')\n",
    "\n",
    "# saveWeightsToPMG(model['fc1.bias'].numpy(), f'modelWeights/fc1/fc1_biases')"
   ]
  }
 ],
 "metadata": {
  "kernelspec": {
   "display_name": "Python 3 (ipykernel)",
   "language": "python",
   "name": "python3"
  },
  "language_info": {
   "codemirror_mode": {
    "name": "ipython",
    "version": 3
   },
   "file_extension": ".py",
   "mimetype": "text/x-python",
   "name": "python",
   "nbconvert_exporter": "python",
   "pygments_lexer": "ipython3",
   "version": "3.10.12"
  }
 },
 "nbformat": 4,
 "nbformat_minor": 5
}
